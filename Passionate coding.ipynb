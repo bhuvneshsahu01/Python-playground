{
 "cells": [
  {
   "cell_type": "markdown",
   "id": "bb015165",
   "metadata": {},
   "source": [
    "# Encoder Decoder"
   ]
  },
  {
   "cell_type": "code",
   "execution_count": null,
   "id": "6db1827d",
   "metadata": {},
   "outputs": [],
   "source": [
    "import numpy as np\n",
    "q1=input(\"what do you want to do\\n press 1 to encode\\t press 2 to decode\")\n",
    "if (q1==\"1\"):\n",
    "    fs=[]\n",
    "    s1=input(\"give a sentence to encode\")\n",
    "    s2=[\"qwertyuioplkjhgfdsazxcvbnm\"]\n",
    "    p=0\n",
    "    for i in s1:\n",
    "        i=np.random.permutation(np.arange(0,25))\n",
    "        i=i[0:3]\n",
    "        s3=[]\n",
    "        for j in range (0,3):\n",
    "            t=i[j]\n",
    "            x=s2[0][t]\n",
    "            s3.append(x)\n",
    "        s5=s3[0]+s3[1]+s3[2]\n",
    "        fs.append(s1[p]+s5)\n",
    "        p=p+1\n",
    "    print(str(fs))\n",
    "elif(q1==\"2\"):\n",
    "    s1=input(\"give a sentence to decode\")\n",
    "s1=s1.split(\", \")\n",
    "fd=[]\n",
    "for i in s1:\n",
    "    fd.append(i[1])\n",
    "fd1='' .join([str(item) for item in fd])\n",
    "print(fd1)\n",
    " "
   ]
  },
  {
   "cell_type": "code",
   "execution_count": null,
   "id": "45b24521",
   "metadata": {
    "scrolled": true
   },
   "outputs": [
    {
     "name": "stdout",
     "output_type": "stream",
     "text": [
      "what do you want to do\n",
      " press 1 to encode\t press 2 to decode1\n"
     ]
    }
   ],
   "source": [
    "import numpy as np\n",
    "q1=input(\"what do you want to do\\n press 1 to encode\\t press 2 to decode\")\n",
    "if (q1==\"1\"):\n",
    "    fs=[]\n",
    "    fsrf=[]\n",
    "    s1=input(\"give a sentence to encode\\n\")\n",
    "    s2=[\"qwertyuioplkjhgfdsazxcvbnm\"]\n",
    "    p=0\n",
    "    g=0\n",
    "    final=[]\n",
    "    for i in s1:\n",
    "        i=np.random.permutation(np.arange(0,25))\n",
    "        i=i[0:3]\n",
    "        s3=[]\n",
    "        for j in range (0,3):\n",
    "            t=i[j]\n",
    "            x=s2[0][t]\n",
    "            s3.append(x)\n",
    "        s5=s3[0]+s3[1]+s3[2]\n",
    "        fs.append(s1[p]+s5)\n",
    "        p=p+1\n",
    "    for i in fs:\n",
    "        i=np.random.permutation(np.arange(0,25))\n",
    "        i=i[0:2]\n",
    "        s3=[]\n",
    "        for j in range (0,2):\n",
    "            t=i[j]\n",
    "            x=s2[0][t]\n",
    "            s3.append(x)\n",
    "        s5=s3[0]+s3[1]\n",
    "        fsrf.append(s5+fs[g])\n",
    "        g=g+1\n",
    "    for i in fsrf:\n",
    "        q=i[2:6]\n",
    "        q=q.strip()\n",
    "        e=i[0:2]+q\n",
    "        final.append(e)\n",
    "    print(final)\n",
    "elif(q1==\"2\"):\n",
    "    s1=input(\"give a sentence to decode\")\n",
    "    s1=s1.split(\", \")\n",
    "    fd=[]\n",
    "    for i in s1:\n",
    "        if (len(i)%2==0):\n",
    "            fd.append(i[3])\n",
    "        else:\n",
    "            fd.append(\" \")\n",
    "    fd1='' .join([str(item) for item in fd])\n",
    "    print(fd1)\n",
    "\n",
    "    \n",
    "    \n",
    "    \n",
    "    "
   ]
  },
  {
   "cell_type": "markdown",
   "id": "c338ad0d",
   "metadata": {},
   "source": [
    "# Library"
   ]
  },
  {
   "cell_type": "code",
   "execution_count": null,
   "id": "c2047de5",
   "metadata": {},
   "outputs": [],
   "source": [
    "book_name=[]\n",
    "genre=[]\n",
    "author=[]\n",
    "location=[]\n",
    "x=int(input(\"what do want to do : \\n1) add a book\\n2) find a book \"))\n",
    "if x==1:\n",
    "    a=input(\"book name \")\n",
    "    b=input(\"genre \")\n",
    "    c=input(\"author \")\n",
    "    d=input(\"location \")\n",
    "    book_name.append(a.lower())\n",
    "    genre.append(b.lower())\n",
    "    author.append(c.lower())\n",
    "    location.append(d.lower())\n",
    "    print(\"book information is saved\")\n",
    "elif x==2:\n",
    "    y=int(input(\"what do you want to use as search filter : \\n1) by book name \\n2) by genre \\n3) by author\"))\n",
    "    if y==1:\n",
    "        n=input(\"enter book name :\")\n",
    "        for i in range(len(genre)):\n",
    "            if book_name[i]==n.lower():\n",
    "                idx=i\n",
    "    if y==2:\n",
    "        n=input(\"enter genre :\")\n",
    "        for i in range(len(genre)):\n",
    "            if genre[i]==n.lower():\n",
    "                idx=i\n",
    "    if y==3:\n",
    "        n=input(\"enter author :\")\n",
    "        for i in range(len(genre)):\n",
    "            if author[i]==n.lower():\n",
    "                idx=i  \n",
    "    print(f\"name of the book is {book_name[idx]} \\ngenre is {genre[idx]} \\nauthor is {author[idx]}\") \n",
    "d=input(\"do you want to continue : \\n1) yes \\n2) no\")\n",
    "if d==1:\n",
    "    continue    \n",
    "   \n",
    "            "
   ]
  },
  {
   "cell_type": "markdown",
   "id": "0960d631",
   "metadata": {},
   "source": [
    "# student data "
   ]
  },
  {
   "cell_type": "code",
   "execution_count": null,
   "id": "7f5b7d6e",
   "metadata": {},
   "outputs": [],
   "source": [
    "def studentdata():\n",
    "    d={}\n",
    "    while True:\n",
    "        studentid=input(\"enter the student id :\")\n",
    "        studentMarks=input(\"enter the student marks seperated by comma :\")\n",
    "        reply=input(\"enter 'no' if there are no more students :\")\n",
    "        d[studentid]=studentMarks.split(\",\")\n",
    "        if (reply==\"no\"):\n",
    "            return d\n",
    "            break\n",
    "        else:\n",
    "            continue\n",
    "def avg(d):\n",
    "    d1={}\n",
    "    for x in d:\n",
    "        l=d[x]\n",
    "        s=0\n",
    "        for y in l:\n",
    "            s+= int(y)\n",
    "        d1[x]=s/len(l)\n",
    "    return d1       \n",
    "y=studentdata()\n",
    "list=avg(y)\n",
    "print(list)"
   ]
  },
  {
   "cell_type": "markdown",
   "id": "f7f1af7d",
   "metadata": {},
   "source": [
    "# Coin simulation\n"
   ]
  },
  {
   "cell_type": "code",
   "execution_count": null,
   "id": "e583150a",
   "metadata": {},
   "outputs": [],
   "source": [
    "import random\n",
    "x=[]\n",
    "k=0\n",
    "for i in range(1000):\n",
    "    while True:\n",
    "        if random.choice([\"tail\",\"head\"])==\"tail\":\n",
    "        \n",
    "            k+=1\n",
    "        else:\n",
    "            x.append(k)\n",
    "            k=0\n",
    "            break\n",
    "print(x)\n",
    "\n",
    "import random\n",
    "x=[]\n",
    "k=0\n",
    "for i in range(1000):\n",
    "    while True:\n",
    "        if random.choice([\"tail\",\"head\"])==\"head\":\n",
    "            k+=1\n",
    "        else:\n",
    "            x.append(k)\n",
    "            k=0\n",
    "            break\n",
    "print(x)         "
   ]
  },
  {
   "cell_type": "code",
   "execution_count": null,
   "id": "90b9ba12",
   "metadata": {},
   "outputs": [],
   "source": []
  },
  {
   "cell_type": "code",
   "execution_count": null,
   "id": "4daacaf9",
   "metadata": {},
   "outputs": [],
   "source": [
    "x=[4,7,2,4,6,4,5,6,4,2,3,4,7,9,7,54,32,34,5,67,8]\n",
    "y=[]\n",
    "for i in x:\n",
    "    if i in y:\n",
    "        pass\n",
    "    else: \n",
    "        y.append(i)\n",
    "print(y)           "
   ]
  },
  {
   "cell_type": "code",
   "execution_count": null,
   "id": "faf77718",
   "metadata": {},
   "outputs": [],
   "source": []
  },
  {
   "cell_type": "code",
   "execution_count": null,
   "id": "63376352",
   "metadata": {},
   "outputs": [],
   "source": [
    "x=int(input(\"give the no. you want to revert\"))\n",
    "reverse=0\n",
    "while x>0:\n",
    "    rem=x%10\n",
    "    reverse=reverse*10+rem\n",
    "    x=x//10\n",
    "print(reverse)    \n",
    "\n",
    "\n"
   ]
  },
  {
   "cell_type": "code",
   "execution_count": null,
   "id": "365b5fe3",
   "metadata": {},
   "outputs": [],
   "source": []
  },
  {
   "cell_type": "code",
   "execution_count": null,
   "id": "5162af10",
   "metadata": {},
   "outputs": [],
   "source": [
    "import math\n",
    "final=[]\n",
    "\n",
    "for i in range(1,100):\n",
    "    for j in range(1,100):\n",
    "        for x in range(1,100):\n",
    "            if i**3+j**3-x**3==0:\n",
    "                final.append([i,j,x])\n",
    "            else: continue\n",
    "print(final)            \n",
    "            "
   ]
  },
  {
   "cell_type": "code",
   "execution_count": null,
   "id": "dfd8efe4",
   "metadata": {},
   "outputs": [],
   "source": []
  },
  {
   "cell_type": "code",
   "execution_count": null,
   "id": "963708cb",
   "metadata": {},
   "outputs": [],
   "source": [
    "import random\n",
    "list=[0,0,0,0]\n",
    "k=0\n",
    "for i in range(1000):\n",
    "    while True:\n",
    "        w=random.choice([1,2,3,4,5,6])\n",
    "        if w==6:\n",
    "            list[k]+=1\n",
    "            k=0\n",
    "            break\n",
    "        else:\n",
    "            k+=1\n",
    "            if(k==4):\n",
    "                k=0\n",
    "print(list)\n",
    "           \n",
    "    \n",
    "\n"
   ]
  },
  {
   "cell_type": "code",
   "execution_count": null,
   "id": "4cb11809",
   "metadata": {},
   "outputs": [],
   "source": []
  },
  {
   "cell_type": "code",
   "execution_count": null,
   "id": "0c208431",
   "metadata": {},
   "outputs": [],
   "source": [
    "def factorial(y):\n",
    "    x=1\n",
    "    while y>0:\n",
    "        x=x*y\n",
    "        y=y-1   \n",
    "    return x  \n",
    "def factorisation(x):\n",
    "    l1={}\n",
    "    l1=set(l1)\n",
    "    i=2\n",
    "    while x>1 :\n",
    "                m=x%i\n",
    "                if m==0:\n",
    "                    x=x//i\n",
    "                    l1.add(i)\n",
    "                else:\n",
    "                    i+=1\n",
    "            \n",
    "    print(l1)                \n",
    "def prime_factorisation(x):\n",
    "    factorisation(factorial(x))\n",
    "    "
   ]
  },
  {
   "cell_type": "code",
   "execution_count": null,
   "id": "1dce2c8e",
   "metadata": {},
   "outputs": [],
   "source": []
  }
 ],
 "metadata": {
  "kernelspec": {
   "display_name": "Python 3 (ipykernel)",
   "language": "python",
   "name": "python3"
  },
  "language_info": {
   "codemirror_mode": {
    "name": "ipython",
    "version": 3
   },
   "file_extension": ".py",
   "mimetype": "text/x-python",
   "name": "python",
   "nbconvert_exporter": "python",
   "pygments_lexer": "ipython3",
   "version": "3.11.4"
  }
 },
 "nbformat": 4,
 "nbformat_minor": 5
}
